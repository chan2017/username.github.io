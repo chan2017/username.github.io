{
 "cells": [
  {
   "cell_type": "code",
   "execution_count": 53,
   "metadata": {
    "collapsed": true
   },
   "outputs": [],
   "source": [
    "\n",
    "from bs4 import BeautifulSoup\n",
    "import pandas as pd\n",
    "import requests\n",
    "import re\n",
    "import numpy as np\n",
    "import zipfile\n",
    "\n",
    "import csv\n",
    "import urllib3\n",
    "import os\n",
    "import shutil"
   ]
  },
  {
   "cell_type": "code",
   "execution_count": 3,
   "metadata": {
    "collapsed": true
   },
   "outputs": [],
   "source": [
    "\n",
    "url = 'http://www.fueleconomy.gov/feg/download.shtml'\n",
    "page = requests.get(url)\n",
    "soup = BeautifulSoup(page.content, 'lxml')\n",
    "\n",
    "\n",
    "reg = 'epadata/\\d{2}data.zip' ##luckily our target has a unique identifier for href\n",
    "suf = 'http://www.fueleconomy.gov/feg/'"
   ]
  },
  {
   "cell_type": "code",
   "execution_count": 4,
   "metadata": {
    "collapsed": true
   },
   "outputs": [],
   "source": [
    "links = soup.find_all('a')\n",
    "zlist = []\n",
    "for tag in links:\n",
    "    link = tag.get('href',None)\n",
    "    if link is not None:\n",
    "        if re.match(reg, link):\n",
    "            zlist.append(link)"
   ]
  },
  {
   "cell_type": "code",
   "execution_count": 58,
   "metadata": {
    "collapsed": true,
    "scrolled": true
   },
   "outputs": [],
   "source": [
    "filelst = []\n",
    "for x in zlist:\n",
    "    url = suf+x\n",
    "    localfn = url.split('/')[-1]\n",
    "    yearno = int(localfn[:2])\n",
    "    if yearno < 50 and yearno > 00:\n",
    "        r = requests.get(url, stream=True)\n",
    "        with open(localfn, 'wb') as f:\n",
    "            for chunk in r.iter_content(chunk_size=1024): \n",
    "                if chunk: # filter out keep-alive new chunks\n",
    "                    f.write(chunk)\n",
    "        zip_ref = zipfile.ZipFile(localfn, 'r')\n",
    "        lcl = \"dldir\"+localfn\n",
    "        filelst.append(lcl)\n",
    "        zip_ref.extractall(lcl)\n",
    "        zip_ref.close()\n",
    "       \n",
    "        \n"
   ]
  },
  {
   "cell_type": "code",
   "execution_count": 59,
   "metadata": {
    "collapsed": true
   },
   "outputs": [],
   "source": [
    "datdir = \"shibe_data\"\n",
    "if not os.path.exists(datdir):\n",
    "    os.makedirs(datdir)"
   ]
  },
  {
   "cell_type": "code",
   "execution_count": 60,
   "metadata": {},
   "outputs": [],
   "source": [
    "reg = \"(.xlsx|.xls|.csv)$\"\n",
    "for item in filelst:\n",
    "    for filename in os.listdir(item):\n",
    "        curname =  item + \"\\\\\" + filename \n",
    "        \n",
    "        \n",
    "        m = re.search(reg, filename)\n",
    "        if m:\n",
    "            newname = datdir + \"\\\\\" + item[:-4] + m.group(0)\n",
    "            os.rename(curname, newname)\n"
   ]
  },
  {
   "cell_type": "code",
   "execution_count": null,
   "metadata": {
    "collapsed": true
   },
   "outputs": [],
   "source": [
    "# clean up files and directories created while scraping data"
   ]
  },
  {
   "cell_type": "code",
   "execution_count": 61,
   "metadata": {},
   "outputs": [],
   "source": [
    "\n",
    "lst = os.listdir(os.getcwd())\n",
    "for x in lst:\n",
    "    m = re.search(\".zip$\", x)\n",
    "    if m:\n",
    "        n = re.search(\"^dldir\",x)\n",
    "        if n:\n",
    "            shutil.rmtree(x)\n",
    "        else:\n",
    "            os.remove(x)\n"
   ]
  },
  {
   "cell_type": "code",
   "execution_count": 29,
   "metadata": {},
   "outputs": [
    {
     "data": {
      "text/plain": [
       "['.git',\n",
       " '.ipynb_checkpoints',\n",
       " '01data.zip',\n",
       " '02data.zip',\n",
       " '03data.zip',\n",
       " '04data.zip',\n",
       " '05data.zip',\n",
       " '06data.zip',\n",
       " '07data.zip',\n",
       " '08data.zip',\n",
       " '09data.zip',\n",
       " '10data.zip',\n",
       " '11data.zip',\n",
       " '12data.zip',\n",
       " '13data.zip',\n",
       " '14data.zip',\n",
       " '15data.zip',\n",
       " '16data.zip',\n",
       " '17data.zip',\n",
       " '18data.zip',\n",
       " 'dldir01data',\n",
       " 'dldir01data.zip',\n",
       " 'dldir02data',\n",
       " 'dldir02data.zip',\n",
       " 'dldir03data',\n",
       " 'dldir03data.zip',\n",
       " 'dldir04data',\n",
       " 'dldir04data.zip',\n",
       " 'dldir05data',\n",
       " 'dldir05data.zip',\n",
       " 'dldir06data',\n",
       " 'dldir06data.zip',\n",
       " 'dldir07data',\n",
       " 'dldir07data.zip',\n",
       " 'dldir08data',\n",
       " 'dldir08data.zip',\n",
       " 'dldir09data',\n",
       " 'dldir09data.zip',\n",
       " 'dldir10data',\n",
       " 'dldir10data.zip',\n",
       " 'dldir11data',\n",
       " 'dldir11data.zip',\n",
       " 'dldir12data',\n",
       " 'dldir12data.zip',\n",
       " 'dldir13data',\n",
       " 'dldir13data.zip',\n",
       " 'dldir14data',\n",
       " 'dldir14data.zip',\n",
       " 'dldir15data',\n",
       " 'dldir15data.zip',\n",
       " 'dldir16data',\n",
       " 'dldir16data.zip',\n",
       " 'dldir17data',\n",
       " 'dldir17data.zip',\n",
       " 'dldir18data',\n",
       " 'dldir18data.zip',\n",
       " 'scraper.ipynb',\n",
       " 'vehicles.csv']"
      ]
     },
     "execution_count": 29,
     "metadata": {},
     "output_type": "execute_result"
    }
   ],
   "source": []
  },
  {
   "cell_type": "code",
   "execution_count": null,
   "metadata": {
    "collapsed": true
   },
   "outputs": [],
   "source": []
  },
  {
   "cell_type": "code",
   "execution_count": null,
   "metadata": {
    "collapsed": true
   },
   "outputs": [],
   "source": []
  },
  {
   "cell_type": "code",
   "execution_count": null,
   "metadata": {
    "collapsed": true
   },
   "outputs": [],
   "source": []
  },
  {
   "cell_type": "code",
   "execution_count": null,
   "metadata": {
    "collapsed": true
   },
   "outputs": [],
   "source": []
  }
 ],
 "metadata": {
  "kernelspec": {
   "display_name": "Python 3",
   "language": "python",
   "name": "python3"
  },
  "language_info": {
   "codemirror_mode": {
    "name": "ipython",
    "version": 3
   },
   "file_extension": ".py",
   "mimetype": "text/x-python",
   "name": "python",
   "nbconvert_exporter": "python",
   "pygments_lexer": "ipython3",
   "version": "3.6.1"
  }
 },
 "nbformat": 4,
 "nbformat_minor": 2
}
