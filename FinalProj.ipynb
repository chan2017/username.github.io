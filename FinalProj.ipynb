{
 "cells": [
  {
   "cell_type": "markdown",
   "metadata": {},
   "source": [
    "<h1>THE PRICE OF GAS INFLUENCES THE AUTO MARKET</h1>"
   ]
  },
  {
   "cell_type": "markdown",
   "metadata": {},
   "source": [
    "<img src =https://n6-img-fp.akamaized.net/free-vector/petrol-station-design_1454-41.jpg?size=338&ext=jpg>"
   ]
  },
  {
   "cell_type": "markdown",
   "metadata": {},
   "source": [
    "<h3>MOTIVATION</h3>"
   ]
  },
  {
   "cell_type": "markdown",
   "metadata": {},
   "source": [
    "<p>\n",
    "When thinking about what type of final project we wanted to do, we wanted a topic that we can extract years of data from as well as be a topic that applies to current times. What we have selected was the Fuel economy data that contained fuel economy data from as far as 1978 but for this project we'll be focusing on years 2001 - 2017. The reason we used this time range is due to only wanting to use data within the 2000s while having enough data for formulate more accurate findings. With this data, we also wanted to have a correlations with the price of gas and the types of cars that people bought that year. By the end of this tutorial, you'll find out whether gas prices influence the purchase of cars for the current year.\n",
    "</p>\n"
   ]
  },
  {
   "cell_type": "code",
   "execution_count": null,
   "metadata": {
    "collapsed": true
   },
   "outputs": [],
   "source": []
  }
 ],
 "metadata": {
  "kernelspec": {
   "display_name": "Python 3",
   "language": "python",
   "name": "python3"
  },
  "language_info": {
   "codemirror_mode": {
    "name": "ipython",
    "version": 3
   },
   "file_extension": ".py",
   "mimetype": "text/x-python",
   "name": "python",
   "nbconvert_exporter": "python",
   "pygments_lexer": "ipython3",
   "version": "3.6.2"
  }
 },
 "nbformat": 4,
 "nbformat_minor": 2
}
