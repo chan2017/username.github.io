{
 "cells": [
  {
   "cell_type": "code",
   "execution_count": 1,
   "metadata": {
    "collapsed": true
   },
   "outputs": [],
   "source": [
    "\n",
    "from bs4 import BeautifulSoup\n",
    "import pandas as pd\n",
    "import requests\n",
    "import re\n",
    "import numpy as np\n",
    "import zipfile\n",
    "\n",
    "import csv\n",
    "import urllib3\n",
    "import os\n",
    "import shutil"
   ]
  },
  {
   "cell_type": "code",
   "execution_count": 2,
   "metadata": {
    "collapsed": true
   },
   "outputs": [],
   "source": [
    "# Open url for scraping. All data sources are stored within a table. All target data files have the\n",
    "# same naming scheme, we will take advantage of this"
   ]
  },
  {
   "cell_type": "code",
   "execution_count": 3,
   "metadata": {
    "collapsed": true
   },
   "outputs": [],
   "source": [
    "\n",
    "url = 'http://www.fueleconomy.gov/feg/download.shtml'\n",
    "page = requests.get(url)\n",
    "soup = BeautifulSoup(page.content, 'lxml')\n",
    "\n",
    "\n",
    "reg = 'epadata/\\d{2}data.zip' ##luckily our target has a unique identifier for href\n",
    "suf = 'http://www.fueleconomy.gov/feg/'"
   ]
  },
  {
   "cell_type": "code",
   "execution_count": 4,
   "metadata": {
    "collapsed": true
   },
   "outputs": [],
   "source": [
    "# Find target data sources within html page"
   ]
  },
  {
   "cell_type": "code",
   "execution_count": 5,
   "metadata": {
    "collapsed": true
   },
   "outputs": [],
   "source": [
    "links = soup.find_all('a')\n",
    "zlist = []\n",
    "for tag in links:\n",
    "    link = tag.get('href',None)\n",
    "    if link is not None:\n",
    "        if re.match(reg, link):\n",
    "            zlist.append(link)"
   ]
  },
  {
   "cell_type": "code",
   "execution_count": 6,
   "metadata": {
    "collapsed": true
   },
   "outputs": [],
   "source": [
    "# Download data to current working directory. These files are zipped. Unzip files."
   ]
  },
  {
   "cell_type": "code",
   "execution_count": 7,
   "metadata": {
    "collapsed": true,
    "scrolled": true
   },
   "outputs": [],
   "source": [
    "filelst = []\n",
    "for x in zlist:\n",
    "    url = suf+x\n",
    "    localfn = url.split('/')[-1]\n",
    "    yearno = int(localfn[:2])\n",
    "    if yearno < 50 and yearno > 00:\n",
    "        r = requests.get(url, stream=True)\n",
    "        with open(localfn, 'wb') as f:\n",
    "            for chunk in r.iter_content(chunk_size=1024): \n",
    "                if chunk: # filter out keep-alive new chunks\n",
    "                    f.write(chunk)\n",
    "        zip_ref = zipfile.ZipFile(localfn, 'r')\n",
    "        lcl = \"dldir\"+localfn\n",
    "        filelst.append(lcl)\n",
    "        zip_ref.extractall(lcl)\n",
    "        zip_ref.close()\n",
    "       \n",
    "        \n"
   ]
  },
  {
   "cell_type": "code",
   "execution_count": 8,
   "metadata": {
    "collapsed": true
   },
   "outputs": [],
   "source": [
    "# create directory to store data"
   ]
  },
  {
   "cell_type": "code",
   "execution_count": 9,
   "metadata": {
    "collapsed": true
   },
   "outputs": [],
   "source": [
    "datdir = \"shibe_data\"\n",
    "if not os.path.exists(datdir):\n",
    "    os.makedirs(datdir)"
   ]
  },
  {
   "cell_type": "code",
   "execution_count": 10,
   "metadata": {
    "collapsed": true
   },
   "outputs": [],
   "source": [
    "# extract downloaded data to single directory. Rename files so that they have uniform names"
   ]
  },
  {
   "cell_type": "code",
   "execution_count": 11,
   "metadata": {},
   "outputs": [],
   "source": [
    "reg = \"(.xlsx|.xls|.csv)$\"\n",
    "for item in filelst:\n",
    "    for filename in os.listdir(item):\n",
    "        curname =  item + \"\\\\\" + filename \n",
    "        \n",
    "        \n",
    "        m = re.search(reg, filename)\n",
    "        if m:\n",
    "            newname = datdir + \"\\\\\" + item[:-4] + m.group(0)\n",
    "            os.rename(curname, newname)\n"
   ]
  },
  {
   "cell_type": "code",
   "execution_count": 12,
   "metadata": {
    "collapsed": true
   },
   "outputs": [],
   "source": [
    "# clean up files and directories created while scraping data"
   ]
  },
  {
   "cell_type": "code",
   "execution_count": 13,
   "metadata": {},
   "outputs": [],
   "source": [
    "\n",
    "lst = os.listdir(os.getcwd())\n",
    "for x in lst:\n",
    "    m = re.search(\".zip$\", x)\n",
    "    if m:\n",
    "        n = re.search(\"^dldir\",x)\n",
    "        if n:\n",
    "            shutil.rmtree(x)\n",
    "        else:\n",
    "            os.remove(x)\n"
   ]
  },
  {
   "cell_type": "code",
   "execution_count": null,
   "metadata": {},
   "outputs": [],
   "source": []
  },
  {
   "cell_type": "code",
   "execution_count": null,
   "metadata": {
    "collapsed": true
   },
   "outputs": [],
   "source": []
  },
  {
   "cell_type": "code",
   "execution_count": null,
   "metadata": {
    "collapsed": true
   },
   "outputs": [],
   "source": []
  },
  {
   "cell_type": "code",
   "execution_count": null,
   "metadata": {
    "collapsed": true
   },
   "outputs": [],
   "source": []
  },
  {
   "cell_type": "code",
   "execution_count": null,
   "metadata": {
    "collapsed": true
   },
   "outputs": [],
   "source": []
  }
 ],
 "metadata": {
  "kernelspec": {
   "display_name": "Python 3",
   "language": "python",
   "name": "python3"
  },
  "language_info": {
   "codemirror_mode": {
    "name": "ipython",
    "version": 3
   },
   "file_extension": ".py",
   "mimetype": "text/x-python",
   "name": "python",
   "nbconvert_exporter": "python",
   "pygments_lexer": "ipython3",
   "version": "3.6.1"
  }
 },
 "nbformat": 4,
 "nbformat_minor": 2
}
